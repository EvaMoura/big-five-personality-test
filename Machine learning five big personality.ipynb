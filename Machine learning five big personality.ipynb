{
 "cells": [
  {
   "cell_type": "code",
   "execution_count": null,
   "id": "e981236e",
   "metadata": {},
   "outputs": [],
   "source": [
    "!pip install gradio"
   ]
  },
  {
   "cell_type": "code",
   "execution_count": null,
   "id": "fc643c05",
   "metadata": {},
   "outputs": [],
   "source": [
    "import numpy as np\n",
    "import pandas as pd\n",
    "import matplotlib.pyplot as plt\n",
    "import seaborn as sns\n",
    "import os\n",
    "from io import open\n",
    "pd.options.display.max_columns = 150"
   ]
  },
  {
   "cell_type": "code",
   "execution_count": null,
   "id": "8895af66",
   "metadata": {},
   "outputs": [],
   "source": [
    "data = pd.read_csv('data-final.csv', sep='\\t')"
   ]
  },
  {
   "cell_type": "code",
   "execution_count": null,
   "id": "74f705f1",
   "metadata": {},
   "outputs": [],
   "source": [
    "data.head()"
   ]
  },
  {
   "cell_type": "code",
   "execution_count": null,
   "id": "9348ef16",
   "metadata": {},
   "outputs": [],
   "source": [
    "data.drop(data.columns[50:110], axis=1, inplace=True)"
   ]
  },
  {
   "cell_type": "code",
   "execution_count": null,
   "id": "b32e5873",
   "metadata": {},
   "outputs": [],
   "source": [
    "data.head()"
   ]
  },
  {
   "cell_type": "code",
   "execution_count": null,
   "id": "055eb74f",
   "metadata": {},
   "outputs": [],
   "source": [
    "pd.options.display.float_format = \"{:.2f}\".format\n",
    "data.describe()"
   ]
  },
  {
   "cell_type": "code",
   "execution_count": null,
   "id": "7863b1aa",
   "metadata": {},
   "outputs": [],
   "source": [
    "data[\"EXT1\"].value_counts()"
   ]
  },
  {
   "cell_type": "code",
   "execution_count": null,
   "id": "d708ea05",
   "metadata": {},
   "outputs": [],
   "source": [
    "data[(data == 0.00).all(axis=1)].describe()"
   ]
  },
  {
   "cell_type": "code",
   "execution_count": null,
   "id": "5e0dcf16",
   "metadata": {},
   "outputs": [],
   "source": [
    "data = data[(data > 0.00).all(axis=1)]"
   ]
  },
  {
   "cell_type": "code",
   "execution_count": null,
   "id": "47122610",
   "metadata": {},
   "outputs": [],
   "source": [
    "data[\"EXT1\"].value_counts()"
   ]
  },
  {
   "cell_type": "code",
   "execution_count": null,
   "id": "5db30eea",
   "metadata": {},
   "outputs": [],
   "source": [
    "!pip install yellowbrick"
   ]
  },
  {
   "cell_type": "code",
   "execution_count": null,
   "id": "bd50e6c7",
   "metadata": {},
   "outputs": [],
   "source": [
    "from sklearn.cluster import KMeans\n",
    "from yellowbrick.cluster import KElbowVisualizer"
   ]
  },
  {
   "cell_type": "code",
   "execution_count": null,
   "id": "e7da2aba",
   "metadata": {},
   "outputs": [],
   "source": [
    "kmeans = KMeans()\n",
    "visualizer = KElbowVisualizer(kmeans, k=(2,10))"
   ]
  },
  {
   "cell_type": "code",
   "execution_count": null,
   "id": "f4092f85",
   "metadata": {},
   "outputs": [],
   "source": [
    "data_sample = data.sample(n=5000, random_state=1)"
   ]
  },
  {
   "cell_type": "code",
   "execution_count": null,
   "id": "e0e5c7cc",
   "metadata": {},
   "outputs": [],
   "source": [
    "visualizer.fit(data_sample)\n",
    "visualizer.poof()"
   ]
  },
  {
   "cell_type": "code",
   "execution_count": null,
   "id": "9988e37a",
   "metadata": {},
   "outputs": [],
   "source": [
    "kmeans = KMeans(n_clusters=5)\n",
    "k_fit = kmeans.fit(data)"
   ]
  },
  {
   "cell_type": "code",
   "execution_count": null,
   "id": "9a2a7fae",
   "metadata": {},
   "outputs": [],
   "source": [
    "predicoes = k_fit.labels_\n",
    "data['Clusters'] =predicoes"
   ]
  },
  {
   "cell_type": "code",
   "execution_count": null,
   "id": "400650aa",
   "metadata": {},
   "outputs": [],
   "source": [
    "data.head()"
   ]
  },
  {
   "cell_type": "code",
   "execution_count": null,
   "id": "9271dd32",
   "metadata": {},
   "outputs": [],
   "source": [
    "data[\"Clusters\"].value_counts()"
   ]
  },
  {
   "cell_type": "code",
   "execution_count": null,
   "id": "d1579fde",
   "metadata": {},
   "outputs": [],
   "source": [
    "data.groupby('Clusters').mean()"
   ]
  },
  {
   "cell_type": "code",
   "execution_count": null,
   "id": "3f5a11a1",
   "metadata": {},
   "outputs": [],
   "source": [
    "col_list = list(data)\n",
    "ext = col_list[0:10]\n",
    "est = col_list[10:20]\n",
    "agr = col_list[20:30]\n",
    "csn = col_list[30:40]\n",
    "opn = col_list[40:50]"
   ]
  },
  {
   "cell_type": "code",
   "execution_count": null,
   "id": "49a6db22",
   "metadata": {},
   "outputs": [],
   "source": [
    "data_soma = pd.DataFrame()\n",
    "data_soma['extroversion'] = data[ext].sum(axis=1)/10\n",
    "data_soma['neurotic'] = data[est].sum(axis=1)/10\n",
    "data_soma['agreeable'] = data[agr].sum(axis=1)/10\n",
    "data_soma['conscientious'] = data[csn].sum(axis=1)/10\n",
    "data_soma['open'] = data[opn].sum(axis=1)/10\n",
    "data_soma['Clusters'] = predicoes \n"
   ]
  },
  {
   "cell_type": "code",
   "execution_count": null,
   "id": "04c21a62",
   "metadata": {},
   "outputs": [],
   "source": [
    "data_soma.groupby('Clusters').mean()"
   ]
  },
  {
   "cell_type": "code",
   "execution_count": null,
   "id": "60fcd10a",
   "metadata": {},
   "outputs": [],
   "source": [
    "data_clusters = data_soma.groupby('Clusters').mean()"
   ]
  },
  {
   "cell_type": "code",
   "execution_count": null,
   "id": "748ae572",
   "metadata": {},
   "outputs": [],
   "source": [
    "plt.figure(figsize=(22,3))\n",
    "for i in range(0, 5):\n",
    "    plt.subplot(1,5,i+1)\n",
    "    plt.bar(data_clusters.columns, data_clusters.iloc[:, i], color='green', alpha=0.2)\n",
    "    plt.plot(data_clusters.columns, data_clusters.iloc[:, i], color='red')\n",
    "    plt.title('Grupo' + str(i))\n",
    "    plt.xticks(rotation=45)\n",
    "    plt.ylim(0,4)"
   ]
  },
  {
   "cell_type": "code",
   "execution_count": null,
   "id": "7c3fdb88",
   "metadata": {},
   "outputs": [],
   "source": [
    "data[:0].to_excel(\"perguntas.xlsx\",index=False)"
   ]
  },
  {
   "cell_type": "code",
   "execution_count": null,
   "id": "c8680dac",
   "metadata": {},
   "outputs": [],
   "source": [
    "meus_dados = pd.read_excel('perguntas.xlsx')"
   ]
  },
  {
   "cell_type": "code",
   "execution_count": null,
   "id": "adce6883",
   "metadata": {},
   "outputs": [],
   "source": [
    "grupo_personalidade = k_fit.predict(meus_dados)[0] \n",
    "print('Meu grupo de pernonalidade é:', grupo_personalidade)"
   ]
  },
  {
   "cell_type": "code",
   "execution_count": null,
   "id": "72ad485f",
   "metadata": {},
   "outputs": [],
   "source": [
    "import gradio as gr"
   ]
  },
  {
   "cell_type": "code",
   "execution_count": null,
   "id": "c39812d9",
   "metadata": {},
   "outputs": [],
   "source": [
    "dicio_questions = open(\"questions.txt\").read().split(\"\\n\")"
   ]
  },
  {
   "cell_type": "code",
   "execution_count": null,
   "id": "f7fda90c",
   "metadata": {},
   "outputs": [],
   "source": [
    "dicio_questions"
   ]
  },
  {
   "cell_type": "code",
   "execution_count": null,
   "id": "67d81f70",
   "metadata": {},
   "outputs": [],
   "source": [
    "questions = []\n",
    "for q in dicio_questions:\n",
    "    q = str(q)\n",
    "    questions.append(q[q.find(\"\\t\"):].lstrip())"
   ]
  },
  {
   "cell_type": "code",
   "execution_count": null,
   "id": "983efc6c",
   "metadata": {},
   "outputs": [],
   "source": [
    "questions"
   ]
  },
  {
   "cell_type": "code",
   "execution_count": null,
   "id": "f20e306b",
   "metadata": {},
   "outputs": [],
   "source": [
    "inputs_questions = []\n",
    "for q in questions:\n",
    "    obj_input = gr.inputs.Slider(minimum=1,maximum=5,step=1,default=3,label=q)\n",
    "    inputs_questions.append(obj_input)"
   ]
  },
  {
   "cell_type": "code",
   "execution_count": null,
   "id": "858d3c80",
   "metadata": {},
   "outputs": [],
   "source": [
    " \n",
    "def predict(*outputs_questions):\n",
    "    outputs_questions = np.array(outputs_questions).reshape(1, -1)\n",
    "    return k_fit.predict(outputs_questions)\n",
    "\n",
    "iface = gr.Interface(\n",
    "    fn = predict,\n",
    "    title = \"Big Five Personality\",\n",
    "    description = \"sistema para detecção de traços de personalidade\",\n",
    "    inputs = inputs_questions,\n",
    "    outputs = \"text\")\n",
    "iface.launch(share=True)"
   ]
  }
 ],
 "metadata": {
  "kernelspec": {
   "display_name": "Python 3 (ipykernel)",
   "language": "python",
   "name": "python3"
  },
  "language_info": {
   "codemirror_mode": {
    "name": "ipython",
    "version": 3
   },
   "file_extension": ".py",
   "mimetype": "text/x-python",
   "name": "python",
   "nbconvert_exporter": "python",
   "pygments_lexer": "ipython3",
   "version": "3.10.9"
  }
 },
 "nbformat": 4,
 "nbformat_minor": 5
}
